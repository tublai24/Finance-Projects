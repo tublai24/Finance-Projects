{
  "nbformat": 4,
  "nbformat_minor": 0,
  "metadata": {
    "colab": {
      "provenance": []
    },
    "kernelspec": {
      "name": "python3",
      "display_name": "Python 3"
    },
    "language_info": {
      "name": "python"
    }
  },
  "cells": [
    {
      "cell_type": "code",
      "execution_count": null,
      "metadata": {
        "id": "RLKW53vi94Kf"
      },
      "outputs": [],
      "source": [
        "import numpy as np"
      ]
    },
    {
      "cell_type": "markdown",
      "source": [
        "**Kalman Filtering Equations**\n",
        "\n",
        "$x_{k}$= Α$x_{k-1}$ + B$u_{k}$ + $w_{k-1}$\n",
        "\n",
        "$y_{k}$= H$x_{k}$ + $v_{k}$\n",
        "\n",
        "where\n",
        "\n",
        "\n",
        "*   $x_{k}$ represents state of process at time step k\n",
        "*   $y_{k}$ is the measurement recorded at time step k\n",
        "\n",
        "*   $w_{k}$ ≈ N(0,Q) , Q process noise covariance\n",
        "\n",
        "*   $v_{k}$ ≈ N(0,R) , R measurement noise covariance and indepedent to process noise\n",
        "\n",
        "\n",
        "\n",
        "\n",
        "<br>\n",
        "\n",
        "\n",
        "\n",
        "\n",
        "*   **Prediction**\n",
        "\n",
        "\n",
        "1.   $X^{-}_{k}$ = $A_{k-1}$  $X_{k-1}$ + $B_{k}$  $U_{k}$\n",
        "\n",
        "2.   $P^{-}_{k}$ = $A_{k-1}$$P_{k-1}$$A^{T}_{k-1}$ + $Q_{k-1}$\n",
        "\n",
        "\n",
        "*   **Update**\n",
        "\n",
        "\n",
        "1.   $V_{k}$ = $Y_{k}$ - $H_{k}$$X^{-}_{k}$\n",
        "\n",
        "2.   $S_{k}$ = $H_{k}$$P^{-}_{k}$$H^{T}_{k}$ + $R_{k}$\n",
        "\n",
        "3. $K_{k}$ = $P^{-}_{k}$$H^{T}_{k}$$S^{-1}_{k}$\n",
        "\n",
        "4. $X_{k}$ = $X^{-}_{k}$ + $K_{k}$$V_{k}$\n",
        "\n",
        "5. $P_{k}$ = $P^{-}_{k}$ - $K_{k}$$S_{k}$$K^{T}_{k}$\n",
        "\n",
        "where\n",
        "\n",
        "\n",
        "\n",
        "*   $X^{-}_{k}$ and $P^{-}_{k}$ are the predicted mean and covariance of the state,respectively at time step k before seeing the measurement\n",
        "\n",
        "*   $X_{k}$ and $P_{k}$ are the estimated mean and covariance of the state,respectively at time step k after seeing the measurement\n",
        "\n",
        "*   $Y_{k}$ is mean of the measurement on time step k\n",
        "\n",
        "*   $V_{k}$ is the innovation or the measurement residual on time step k\n",
        "\n",
        "*   $S_{k}$ is the measurement prediction covariance on time step k\n",
        "\n",
        "*   $K_{k}$ is the filter gain, which tells us how much the predictions should be corrected on time step k\n",
        "\n",
        "\n",
        "\n",
        "\n",
        "\n",
        "\n",
        "\n",
        "\n",
        "\n"
      ],
      "metadata": {
        "id": "B2BIOM3nBE0_"
      }
    },
    {
      "cell_type": "code",
      "source": [
        "def kf_predict(X,P,A,Q,B,U):\n",
        "  X= np.dot(A,X) + np.dot(B,U)\n",
        "  P= np.dot(A,np.dot(P,np.transpose(A))) + Q\n",
        "  return (X,P)"
      ],
      "metadata": {
        "id": "e0osiNkDA1-a"
      },
      "execution_count": null,
      "outputs": []
    },
    {
      "cell_type": "code",
      "source": [
        "def kf_update(X,P,Y,H,R):\n",
        "  IM= np.dot(H,X)\n",
        "  IS= R+ np.dot(H,np.dot(P,np.transpose(H)))\n",
        "  K= np.dot(P,np.dot(np.transpose(H),np.linalg.inv(IS)))\n",
        "  X= X + np.dot(K,Y-IM)\n",
        "  P= P - np.dot(K,np.dot(IS,np.transpose(K)))\n",
        "  LH= gauss_pdf(Y,IM,IS)\n",
        "  return (X,P,K,IM,IS,LH)\n",
        "\n",
        "def gauss_pdf(X,M,S):\n",
        "  if M.shape[1]==1:\n",
        "    dx= X - np.tile(M,X.shape[1])\n",
        "    E= 0.5 * np.sum(dx * np.dot(np.linalg.inv(S),dx),axis=0)\n",
        "    E = E + 0.5 *M.shape[0] * np.log(2*np.pi) + 0.5* np.log(np.linalg.det(S))\n",
        "    P= np.exp(-E)\n",
        "  elif X.shape[1]==1:\n",
        "    dx= np.tile(X,M.shape[1]) - M\n",
        "    E= 0.5 * np.sum(dx * np.dot(np.linalg.inv(S),dx),axis=0)\n",
        "    E = E + 0.5 *M.shape[0] * np.log(2*np.pi) + 0.5*np.log(np.linalg.det(S))\n",
        "    P= np.exp(-E)\n",
        "  else:\n",
        "    dx= X - M\n",
        "    E= 0.5 * np.sum(np.transpose(dx) * np.dot(np.linalg.inv(S),dx),axis=0)\n",
        "    E = E + 0.5 *M.shape[0] * np.log(2*np.pi) + 0.5* np.log(np.linalg.det(S))\n",
        "    P= np.exp(-E)\n",
        "  return (P[0],E[0])"
      ],
      "metadata": {
        "id": "Z3Ie7NEaHWpy"
      },
      "execution_count": null,
      "outputs": []
    },
    {
      "cell_type": "code",
      "source": [
        "#time step\n",
        "dt=0.1\n",
        "\n",
        "#Initialisation of state matrices\n",
        "X= np.array([[0.0],[0.0],[0.1],[0.1]])\n",
        "P=np.diag((0.01,0.01,0.01,0.01))\n",
        "A= np.array([[1,0,dt,0],[0,1,0,dt],[0,0,1,0],[0,0,0,1]])\n",
        "Q=np.eye(X.shape[0])\n",
        "B= np.eye(X.shape[0])\n",
        "U= np.zeros((X.shape[0],1))\n",
        "\n",
        "#Initialisation of measurement matrices\n",
        "Y=np.array([[X[0,0] + abs(np.random.normal(0,1))],[X[1,0]+ abs(np.random.normal(0,1))]])\n",
        "H=np.array([[1,0,0,0],[0,1,0,0]])\n",
        "R=np.eye(Y.shape[0])\n",
        "\n",
        "num=50\n",
        "\n",
        "for i in np.arange(0,num):\n",
        "  (X,P)=kf_predict(X,P,A,Q,B,U)\n",
        "  (X,P,K,IM,IS,LH)=kf_update(X,P,Y,H,R)\n",
        "  Y= np.array([[X[0,0] + abs(0.1*np.random.normal(0,1))],[X[1,0]+ abs(0.1*np.random.normal(0,1))]])\n",
        "\n"
      ],
      "metadata": {
        "id": "BwMHmh2XJw-p"
      },
      "execution_count": null,
      "outputs": []
    },
    {
      "cell_type": "code",
      "source": [],
      "metadata": {
        "colab": {
          "base_uri": "https://localhost:8080/"
        },
        "id": "Nqvpg6-FLtjq",
        "outputId": "0c1336e2-22d0-47e2-9418-ebced811a002"
      },
      "execution_count": null,
      "outputs": [
        {
          "output_type": "execute_result",
          "data": {
            "text/plain": [
              "array([[4.14813421],\n",
              "       [4.36499441]])"
            ]
          },
          "metadata": {},
          "execution_count": 14
        }
      ]
    },
    {
      "cell_type": "code",
      "source": [],
      "metadata": {
        "id": "ci7bJ3OXMCIo"
      },
      "execution_count": null,
      "outputs": []
    }
  ]
}